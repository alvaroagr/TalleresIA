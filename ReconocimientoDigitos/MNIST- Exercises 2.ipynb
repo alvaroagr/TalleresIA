{
 "cells": [
  {
   "cell_type": "markdown",
   "metadata": {},
   "source": [
    "# MNIST (dígitos) solución tradicional\n",
    "\n",
    "__Integrantes:__\n",
    "\n",
    "+ Nombre: Leonardo Franco\n",
    "+ Nombre: Alvaro Gómez\n",
    "\n",
    "__Números asignados:__ 3 y 0\n"
   ]
  },
  {
   "cell_type": "markdown",
   "metadata": {},
   "source": [
    "## Taller \n",
    "\n",
    "_Suponga que trabajan para el desarrollo de un sistema de lectura y reconocimiento de dígitos. Para este trabajo le han proporcionado un conjunto de fotos en grises con el fin que proponga una solución de programación tradicional, es decir, sin el uso de la inteligencia artificial. El software que proponga debe tener la capacidad de determinar con una precisión una muestra de los datos que le han suministrado_\n",
    "\n",
    "Durante la clase se le proporcionaran dos números para trabajar:\n",
    "+ 1 y 5\n",
    "+ 8 y 2\n",
    "+ 9 y 7\n",
    "+ 0 y 3\n",
    "+ 4 y 6\n",
    "\n",
    "**Evaluación del método**\n",
    "\n",
    "Seleccione aleatoriamente una muestra de 30% de los datos, en donde se incluya un balance entre los dígitos asignados (despliéguelo y evidencie las cantidades).\n",
    "\n",
    "Utilice la muestra obtenida y evalué el software (proceso o métodos) que ha propuesto, es decir, a cuantos números acertó (VP) contra los que no acertó (FP), calcule los siguientes datos:\n",
    "\n",
    "```\n",
    "Para el primer número\n",
    "\n",
    "Reales =  número de datos\n",
    "\n",
    "Estimados = cantidad de dígitos estimados correctamente \n",
    "\n",
    "Para el segundo número\n",
    "\n",
    "Reales =  número de datos\n",
    "\n",
    "Estimados = cantidad de dígitos estimados correctamente\n",
    "```\n",
    "_Para todos los números que le corresponden_\n",
    "\n",
    "$ Precision = \\frac{VP}{VP+FP}$\n",
    "\n",
    "\n",
    "Finalmente, despliegue el tiempo que tomo todo el proceso de evaluación."
   ]
  },
  {
   "cell_type": "markdown",
   "metadata": {
    "heading_collapsed": true
   },
   "source": [
    "#### Entregas\n",
    "\n",
    "+ Prepare una presentación donde muestre los resultados\n",
    "+ Envié por un correo electrónico este archivo ipynb con la solución y resultados conseguidos\n"
   ]
  },
  {
   "cell_type": "markdown",
   "metadata": {},
   "source": [
    "#### Paquetes"
   ]
  },
  {
   "cell_type": "code",
   "execution_count": 1,
   "metadata": {},
   "outputs": [],
   "source": [
    "from sklearn.datasets import load_digits\n",
    "import pylab as pl\n",
    "import sklearn"
   ]
  },
  {
   "cell_type": "code",
   "execution_count": 3,
   "metadata": {},
   "outputs": [
    {
     "data": {
      "text/plain": [
       "sklearn.utils.Bunch"
      ]
     },
     "execution_count": 3,
     "metadata": {},
     "output_type": "execute_result"
    }
   ],
   "source": [
    "# cargamos los datos y desplegamos el objeto\n",
    "digits = load_digits()\n",
    "type(digits)"
   ]
  },
  {
   "cell_type": "code",
   "execution_count": 30,
   "metadata": {},
   "outputs": [],
   "source": [
    "# observe las propieades del objeto, ¿a que tipo se le parece?\n",
    "?sklearn.utils.Bunch"
   ]
  },
  {
   "cell_type": "code",
   "execution_count": 4,
   "metadata": {},
   "outputs": [
    {
     "data": {
      "text/plain": [
       "<matplotlib.image.AxesImage at 0x7fc01ac1ab38>"
      ]
     },
     "execution_count": 4,
     "metadata": {},
     "output_type": "execute_result"
    },
    {
     "data": {
      "text/plain": [
       "<Figure size 432x288 with 0 Axes>"
      ]
     },
     "metadata": {},
     "output_type": "display_data"
    },
    {
     "data": {
      "image/png": "[encoded data removed]",
      "text/plain": [
       "<Figure size 288x288 with 1 Axes>"
      ]
     },
     "metadata": {
      "needs_background": "light"
     },
     "output_type": "display_data"
    }
   ],
   "source": [
    "pl.gray() # Queremos las imágenes en grises\n",
    "pl.matshow(digits.images[50]) # Imprimir una imagen dada"
   ]
  },
  {
   "cell_type": "code",
   "execution_count": 11,
   "metadata": {},
   "outputs": [
    {
     "name": "stdout",
     "output_type": "stream",
     "text": [
      "Se tienen en total: 1797 imágenes\n",
      "[[ 0.  0.  0.  5. 14. 12.  2.  0.]\n",
      " [ 0.  0.  7. 15.  8. 14.  4.  0.]\n",
      " [ 0.  0.  6.  2.  3. 13.  1.  0.]\n",
      " [ 0.  0.  0.  1. 13.  4.  0.  0.]\n",
      " [ 0.  0.  1. 11.  9.  0.  0.  0.]\n",
      " [ 0.  8. 16. 13.  0.  0.  0.  0.]\n",
      " [ 0.  5. 14. 16. 11.  2.  0.  0.]\n",
      " [ 0.  0.  0.  6. 12. 13.  3.  0.]]\n"
     ]
    }
   ],
   "source": [
    "numImagenes = len(digits.images) # Numero de imagenes, len es un método que provee el tamaño del arreglo\n",
    "print(\"Se tienen en total:\", numImagenes, \"imágenes\")\n",
    "print(digits.images[50]) # Ver su representación en pixeles"
   ]
  },
  {
   "cell_type": "markdown",
   "metadata": {},
   "source": [
    "Observe cada atributo del objeto digits, recorra cada imagen y obtenga su representación (_target_)"
   ]
  },
  {
   "cell_type": "code",
   "execution_count": 10,
   "metadata": {},
   "outputs": [
    {
     "name": "stdout",
     "output_type": "stream",
     "text": [
      "[[ 0.  0.  0.  5. 14. 12.  2.  0.]\n",
      " [ 0.  0.  7. 15.  8. 14.  4.  0.]\n",
      " [ 0.  0.  6.  2.  3. 13.  1.  0.]\n",
      " [ 0.  0.  0.  1. 13.  4.  0.  0.]\n",
      " [ 0.  0.  1. 11.  9.  0.  0.  0.]\n",
      " [ 0.  8. 16. 13.  0.  0.  0.  0.]\n",
      " [ 0.  5. 14. 16. 11.  2.  0.  0.]\n",
      " [ 0.  0.  0.  6. 12. 13.  3.  0.]]\n",
      "2\n"
     ]
    }
   ],
   "source": [
    "print(digits.images[50])\n",
    "print(digits.target[50])"
   ]
  },
  {
   "cell_type": "markdown",
   "metadata": {
    "heading_collapsed": true
   },
   "source": [
    "#### Solución"
   ]
  },
  {
   "cell_type": "code",
   "execution_count": 4,
   "metadata": {},
   "outputs": [
    {
     "name": "stdout",
     "output_type": "stream",
     "text": [
      "361\n"
     ]
    }
   ],
   "source": [
    "#Primera Parte.\n",
    "# Recuperar 30% aleatorio de nuestras imagenes.\n",
    "\n",
    "actual = 0\n",
    "num3s = 0\n",
    "num0s = 0\n",
    "our_nums = sklearn.utils.Bunch(target = [], images = [])\n",
    "for i in digits.target:\n",
    "    if i == 3 or i == 0:\n",
    "        our_nums.target.append(i)\n",
    "        our_nums.images.append(digits.images[actual])\n",
    "    actual+=1\n",
    "\n",
    "print(str(len(our_nums.target)))"
   ]
  },
  {
   "cell_type": "code",
   "execution_count": 89,
   "metadata": {},
   "outputs": [
    {
     "name": "stdout",
     "output_type": "stream",
     "text": [
      "[[ 0.  0.  5. 13.  9.  1.  0.  0.]\n",
      " [ 0.  0. 13. 15. 10. 15.  5.  0.]\n",
      " [ 0.  3. 15.  2.  0. 11.  8.  0.]\n",
      " [ 0.  4. 12.  0.  0.  8.  8.  0.]\n",
      " [ 0.  5.  8.  0.  0.  9.  8.  0.]\n",
      " [ 0.  4. 11.  0.  1. 12.  7.  0.]\n",
      " [ 0.  2. 14.  5. 10. 12.  0.  0.]\n",
      " [ 0.  0.  6. 13. 10.  0.  0.  0.]]\n",
      "[[ 0.  0.  7. 15. 13.  1.  0.  0.]\n",
      " [ 0.  8. 13.  6. 15.  4.  0.  0.]\n",
      " [ 0.  2.  1. 13. 13.  0.  0.  0.]\n",
      " [ 0.  0.  2. 15. 11.  1.  0.  0.]\n",
      " [ 0.  0.  0.  1. 12. 12.  1.  0.]\n",
      " [ 0.  0.  0.  0.  1. 10.  8.  0.]\n",
      " [ 0.  0.  8.  4.  5. 14.  9.  0.]\n",
      " [ 0.  0.  7. 13. 13.  9.  0.  0.]]\n",
      "[[ 0.  0.  1.  9. 15. 11.  0.  0.]\n",
      " [ 0.  0. 11. 16.  8. 14.  6.  0.]\n",
      " [ 0.  2. 16. 10.  0.  9.  9.  0.]\n",
      " [ 0.  1. 16.  4.  0.  8.  8.  0.]\n",
      " [ 0.  4. 16.  4.  0.  8.  8.  0.]\n",
      " [ 0.  1. 16.  5.  1. 11.  3.  0.]\n",
      " [ 0.  0. 12. 12. 10. 10.  0.  0.]\n",
      " [ 0.  0.  1. 10. 13.  3.  0.  0.]]\n",
      "[[ 0.  2.  9. 15. 14.  9.  3.  0.]\n",
      " [ 0.  4. 13.  8.  9. 16.  8.  0.]\n",
      " [ 0.  0.  0.  6. 14. 15.  3.  0.]\n",
      " [ 0.  0.  0. 11. 14.  2.  0.  0.]\n",
      " [ 0.  0.  0.  2. 15. 11.  0.  0.]\n",
      " [ 0.  0.  0.  0.  2. 15.  4.  0.]\n",
      " [ 0.  1.  5.  6. 13. 16.  6.  0.]\n",
      " [ 0.  2. 12. 12. 13. 11.  0.  0.]]\n",
      "3\n"
     ]
    },
    {
     "data": {
      "text/plain": [
       "0.0"
      ]
     },
     "execution_count": 89,
     "metadata": {},
     "output_type": "execute_result"
    },
    {
     "data": {
      "text/plain": [
       "<Figure size 432x288 with 0 Axes>"
      ]
     },
     "metadata": {},
     "output_type": "display_data"
    },
    {
     "data": {
      "image/png": "[encoded data removed]",
      "text/plain": [
       "<Figure size 288x288 with 1 Axes>"
      ]
     },
     "metadata": {
      "needs_background": "light"
     },
     "output_type": "display_data"
    },
    {
     "data": {
      "image/png": "[encoded data removed]",
      "text/plain": [
       "<Figure size 288x288 with 1 Axes>"
      ]
     },
     "metadata": {
      "needs_background": "light"
     },
     "output_type": "display_data"
    },
    {
     "data": {
      "image/png": "[encoded data removed]",
      "text/plain": [
       "<Figure size 288x288 with 1 Axes>"
      ]
     },
     "metadata": {
      "needs_background": "light"
     },
     "output_type": "display_data"
    },
    {
     "data": {
      "image/png": "[encoded data removed]",
      "text/plain": [
       "<Figure size 288x288 with 1 Axes>"
      ]
     },
     "metadata": {
      "needs_background": "light"
     },
     "output_type": "display_data"
    }
   ],
   "source": [
    "pl.gray() # Queremos las imágenes en grises\n",
    "#for i in our_nums.images:\n",
    "#    pl.matshow(i)\n",
    "pl.matshow(our_nums.images[0])\n",
    "print(our_nums.images[0])\n",
    "pl.matshow(our_nums.images[1])\n",
    "print(our_nums.images[1])\n",
    "pl.matshow(our_nums.images[2])\n",
    "print(our_nums.images[2])\n",
    "pl.matshow(our_nums.images[3])\n",
    "print(our_nums.images[3])\n",
    "print(our_nums.target[3])\n",
    "type(our_nums.images[0])\n",
    "\n",
    "our_nums.images[0][0][0]"
   ]
  },
  {
   "cell_type": "markdown",
   "metadata": {},
   "source": [
    "### Opciones:\n",
    "#### 1. Metodo de hallar suma de sector (ver como dividir cada sector)\n",
    "#### 2. Acercar los grises a negro y blanco, y usar otro criterio o el metodo anterior\n",
    "#### 3. *ELEGIDO: USAR TEMPLATES. YO HAGO EL 0, TU TRATAS EL 3.*"
   ]
  },
  {
   "cell_type": "markdown",
   "metadata": {},
   "source": [
    "Se define el template del digito 0."
   ]
  },
  {
   "cell_type": "code",
   "execution_count": 70,
   "metadata": {},
   "outputs": [],
   "source": [
    "temp0 = [[0,0,0,1,1,0,0,0],\n",
    "         [0,0,1,1,1,1,0,0],\n",
    "         [0,0,1,0,0,1,0,0],\n",
    "         [0,0,1,0,0,1,0,0],\n",
    "         [0,0,1,0,0,1,0,0],\n",
    "         [0,0,1,0,0,1,0,0],\n",
    "         [0,0,1,1,1,1,0,0],\n",
    "         [0,0,0,1,1,0,0,0]]"
   ]
  },
  {
   "cell_type": "markdown",
   "metadata": {},
   "source": [
    "Se define el metodo Recognize, el cual en un principio determina si el número es 0 o no."
   ]
  },
  {
   "cell_type": "code",
   "execution_count": 74,
   "metadata": {},
   "outputs": [],
   "source": [
    "def recognize(num, temp):\n",
    "    digit = -1\n",
    "    score = 0\n",
    "    for i in range(0,8):\n",
    "        for j in range(2,6):\n",
    "            x = 0\n",
    "            #print(num[i][j])\n",
    "            if num[i][j] > 8:\n",
    "                x = 1\n",
    "            #print(x)\n",
    "            if x == temp[i][j]:\n",
    "                score += 1\n",
    "            #print(\"score:\"+str(score))\n",
    "    #26--> 81% (score=26)de similitud al template ; 75% (score=24)\n",
    "    #print(score)\n",
    "    if score > 24:\n",
    "        digit = 0\n",
    "    return digit\n",
    "        "
   ]
  },
  {
   "cell_type": "code",
   "execution_count": 87,
   "metadata": {},
   "outputs": [
    {
     "data": {
      "text/plain": [
       "-1"
      ]
     },
     "execution_count": 87,
     "metadata": {},
     "output_type": "execute_result"
    }
   ],
   "source": [
    "recognize(our_nums.images[1], temp0)"
   ]
  },
  {
   "cell_type": "markdown",
   "metadata": {},
   "source": [
    "Se define el template para el número 3"
   ]
  },
  {
   "cell_type": "code",
   "execution_count": 9,
   "metadata": {},
   "outputs": [],
   "source": [
    "temp3 = [[0,0,1,1,1,1,0,0],\n",
    "         [0,0,1,0,0,1,0,0],\n",
    "         [0,0,0,0,0,1,0,0],\n",
    "         [0,0,0,0,1,0,0,0],\n",
    "         [0,0,0,0,1,1,0,0],\n",
    "         [0,0,0,0,0,1,0,0],\n",
    "         [0,0,1,0,0,1,0,0],\n",
    "         [0,0,1,1,1,1,0,0]]"
   ]
  },
  {
   "cell_type": "code",
   "execution_count": 60,
   "metadata": {},
   "outputs": [
    {
     "name": "stdout",
     "output_type": "stream",
     "text": [
      "22\n"
     ]
    },
    {
     "data": {
      "text/plain": [
       "-1"
      ]
     },
     "execution_count": 60,
     "metadata": {},
     "output_type": "execute_result"
    }
   ],
   "source": [
    "recognize(our_nums.images[1], temp3)"
   ]
  },
  {
   "cell_type": "code",
   "execution_count": 103,
   "metadata": {},
   "outputs": [],
   "source": [
    "def identifyNumber(number):\n",
    "    is0 = recognize(number, temp0)\n",
    "    is3 = recognize(number, temp3)\n",
    "    \n",
    "    if(is0==0):\n",
    "        #print(\"the number is: 0\")\n",
    "        return 0\n",
    "    elif(is3==0):\n",
    "        #print(\"the number is: 3\")\n",
    "        return 3\n",
    "    else:\n",
    "        #print(\"Number not recognized\")\n",
    "        return -1\n",
    "    "
   ]
  },
  {
   "cell_type": "code",
   "execution_count": 84,
   "metadata": {},
   "outputs": [
    {
     "name": "stdout",
     "output_type": "stream",
     "text": [
      "the number is: 0\n"
     ]
    }
   ],
   "source": [
    "identifyNumber(our_nums.images[79])"
   ]
  },
  {
   "cell_type": "code",
   "execution_count": 114,
   "metadata": {},
   "outputs": [
    {
     "name": "stdout",
     "output_type": "stream",
     "text": [
      "# 0:  53\n",
      "#3:  56\n",
      "Aciertos en 0:  40\n",
      "Aciertos en 3:  15\n",
      "No identificados:  54\n",
      "Erroneos:  0\n"
     ]
    }
   ],
   "source": [
    "import random\n",
    "\n",
    "muestra = []\n",
    "poblacion = len(our_nums.target)\n",
    "num3=0\n",
    "num0=0\n",
    "\n",
    "aciertos0 = 0\n",
    "aciertos3 = 0\n",
    "noIdentificados = 0\n",
    "erroneos = 0\n",
    "\n",
    "while len(muestra)<(poblacion*0.3):\n",
    "    index = random.randrange(poblacion+1)\n",
    "    if index not in muestra :\n",
    "        muestra.append(index)\n",
    "        if(our_nums.target[index]==0):\n",
    "            num0 +=1\n",
    "        elif(our_nums.target[index]==3):\n",
    "            num3 +=1\n",
    "        \n",
    "\n",
    "        \n",
    "for i in muestra:\n",
    "    \n",
    "    evaluado = identifyNumber(our_nums.images[i])\n",
    "    #print(\"target: \", our_nums.target[i])\n",
    "    #print(\"evaluado: \", evaluado)\n",
    "    if(our_nums.target[i]==0):\n",
    "        if(evaluado==0):\n",
    "            aciertos0 +=1\n",
    "        elif(evaluado==-1):\n",
    "            noIdentificados +=1\n",
    "        else:\n",
    "            erroneos += 1\n",
    "            \n",
    "    if(our_nums.target[i]==3):\n",
    "        if(evaluado==3):\n",
    "            aciertos3 +=1\n",
    "        elif(evaluado==-1):\n",
    "            noIdentificados +=1\n",
    "        else:\n",
    "            erroneos += 1\n",
    "  \n",
    "print(\"# 0: \", num0)\n",
    "print(\"#3: \", num3)\n",
    "print(\"Aciertos en 0: \", aciertos0)\n",
    "print(\"Aciertos en 3: \", aciertos3)\n",
    "print(\"No identificados: \", noIdentificados)\n",
    "print(\"Erroneos: \", erroneos)\n"
   ]
  },
  {
   "cell_type": "markdown",
   "metadata": {},
   "source": []
  }
 ],
 "metadata": {
  "kernelspec": {
   "display_name": "Python 3",
   "language": "python",
   "name": "python3"
  },
  "language_info": {
   "codemirror_mode": {
    "name": "ipython",
    "version": 3
   },
   "file_extension": ".py",
   "mimetype": "text/x-python",
   "name": "python",
   "nbconvert_exporter": "python",
   "pygments_lexer": "ipython3",
   "version": "3.7.3"
  }
 },
 "nbformat": 4,
 "nbformat_minor": 2
}
